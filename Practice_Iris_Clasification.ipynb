{
  "cells": [
    {
      "cell_type": "code",
      "execution_count": null,
      "metadata": {
        "id": "Jk8rrZGhy6ee"
      },
      "outputs": [],
      "source": [
        "from sklearn.datasets import load_iris\n",
        "\n",
        "\n",
        "print('ok')"
      ]
    },
    {
      "cell_type": "code",
      "execution_count": null,
      "metadata": {
        "id": "1wpnzVRIy6ef"
      },
      "outputs": [],
      "source": [
        "iris=load_iris()\n",
        "X = iris.data\n",
        "print(X)  # ada 4 fitur: 4 features: Sepal length,Sepal width,Petal length,Petal Width in cm\n",
        "print(X.shape) # 150 , 4"
      ]
    },
    {
      "cell_type": "code",
      "execution_count": null,
      "metadata": {
        "id": "0AGkYqSxy6eh"
      },
      "outputs": [],
      "source": [
        "y = iris.target\n",
        "print(y) # label 0 =Versicolor  label 1=setosa  label 2=virginia\n",
        "print(y.shape) # 150, masing-masing 5 data satiap kelas"
      ]
    },
    {
      "cell_type": "code",
      "execution_count": null,
      "metadata": {
        "id": "1vkX2kncy6eh"
      },
      "outputs": [],
      "source": [
        "# ke pandas dulu\n",
        "# diubah ke excell\n",
        "#import pandas as pd\n",
        "#df1 = pd.DataFrame(y)\n",
        "#df2 = pd.DataFrame(X)\n",
        "#data=pd.DataFrame(df1)\n",
        "#data\n"
      ]
    },
    {
      "cell_type": "code",
      "execution_count": null,
      "metadata": {
        "id": "pGKJ4XzOy6ei"
      },
      "outputs": [],
      "source": [
        "# Splitting Dataset \n",
        "from sklearn.model_selection import train_test_split \n",
        "print('ok')"
      ]
    },
    {
      "cell_type": "code",
      "execution_count": null,
      "metadata": {
        "id": "aTLdY-A4y6ej"
      },
      "outputs": [],
      "source": [
        "X_train, X_test, y_train, y_test = train_test_split(X, y,test_size = 0.1, random_state = 1) \n",
        "print('ok')"
      ]
    },
    {
      "cell_type": "code",
      "execution_count": null,
      "metadata": {
        "id": "u5z2KEBoy6ej"
      },
      "outputs": [],
      "source": [
        "print(X.shape) "
      ]
    },
    {
      "cell_type": "code",
      "execution_count": null,
      "metadata": {
        "id": "9jYr8Ufsy6ek"
      },
      "outputs": [],
      "source": [
        "print(X_train.shape) # (105, 4)   # 0.1 * 150 = 15 +> testing,   135 -> training\n",
        "print(X_train) "
      ]
    },
    {
      "cell_type": "code",
      "execution_count": null,
      "metadata": {
        "id": "R6xVLyO5y6ek"
      },
      "outputs": [],
      "source": [
        "print(X_test.shape) # (105, 4)\n",
        "print(X_test) "
      ]
    },
    {
      "cell_type": "code",
      "execution_count": null,
      "metadata": {
        "id": "U72N-0BTy6ek"
      },
      "outputs": [],
      "source": [
        "# Machhine Learning - KNN\n",
        "from sklearn.neighbors import KNeighborsClassifier \n",
        "from sklearn import metrics \n",
        "\n",
        "print('ok')"
      ]
    },
    {
      "cell_type": "code",
      "execution_count": null,
      "metadata": {
        "id": "t_pRTnHWy6el"
      },
      "outputs": [],
      "source": [
        "#TRAINING - KNN\n",
        "\n",
        "classifier_knn = KNeighborsClassifier(n_neighbors = 3) \n",
        "classifier_knn.fit(X_train, y_train) \n",
        "print('ok')"
      ]
    },
    {
      "cell_type": "code",
      "execution_count": null,
      "metadata": {
        "id": "UJg4MvG5y6el"
      },
      "outputs": [],
      "source": [
        "#TESTING\n",
        "y_pred = classifier_knn.predict(X_test) \n",
        "\n",
        "# Finding accuracy by comparing actual response values(y_test)\n",
        "# with predicted response value(y_pred) \n",
        "print(\"Accuracy:\", metrics.accuracy_score(y_test, y_pred)) \n"
      ]
    },
    {
      "cell_type": "code",
      "execution_count": null,
      "metadata": {
        "id": "oufve4Y6y6el"
      },
      "outputs": [],
      "source": [
        "# testing manual, 2 data\n",
        "sample = [[5, 5, 3, 2], [2, 4, 3, 5]] \n",
        "\n",
        "output = classifier_knn.predict(sample)\n",
        "preds=output\n",
        "\n",
        "pred_species = [iris.target_names[p] for p in preds]\n",
        "print(\"Predictions:\", pred_species)\n",
        "\n",
        "print(iris.target_names[output[0]])\n",
        "print(iris.target_names[output[1]])\n",
        "\n",
        "#print(output)"
      ]
    },
    {
      "cell_type": "code",
      "execution_count": null,
      "metadata": {
        "id": "ND1DFNjGy6em"
      },
      "outputs": [],
      "source": [
        "coba=[[5,  2,  3, 1]]\n",
        "output = classifier_knn.predict(coba)\n",
        "print(output)\n",
        "print(iris.target_names[output[0]])"
      ]
    },
    {
      "cell_type": "code",
      "execution_count": null,
      "metadata": {
        "id": "0s4TG3jzy6em"
      },
      "outputs": [],
      "source": [
        "# SIMPAN HASIL TRAINING\n",
        "import joblib \n",
        "\n",
        "joblib.dump(classifier_knn, 'hasil_traning_knn.joblib') \n",
        "print('ok')"
      ]
    },
    {
      "cell_type": "code",
      "execution_count": null,
      "metadata": {
        "id": "pyDtzK52y6em"
      },
      "outputs": [],
      "source": [
        "#pip install --user joblib"
      ]
    },
    {
      "cell_type": "code",
      "execution_count": null,
      "metadata": {
        "id": "ii9a6_6Uy6en"
      },
      "outputs": [],
      "source": [
        "#LOAD HASIL TRAINING\n",
        "classifier_knn_LOAD = joblib.load('hasil_traning_knn.joblib')\n",
        "print('ok')"
      ]
    },
    {
      "cell_type": "code",
      "execution_count": null,
      "metadata": {
        "id": "ryQWJj2Py6en"
      },
      "outputs": [],
      "source": [
        "# dicoba utk testing\n",
        "coba=[[5,  2,  3, 1]]\n",
        "output = classifier_knn_LOAD.predict(coba)\n",
        "print(output)\n",
        "print(iris.target_names[output[0]])"
      ]
    },
    {
      "cell_type": "code",
      "execution_count": null,
      "metadata": {
        "id": "f5xypmf1y6en"
      },
      "outputs": [],
      "source": [
        "# DARI FILE *CSV\n",
        "\n",
        "# LATIHAN *.CSV\n",
        "import pandas as pd\n",
        "namafile = 'seeds.csv'\n",
        "data = pd.read_csv(namafile,header=None) #PAKAHI header=None\n",
        "data.head(5)"
      ]
    },
    {
      "cell_type": "code",
      "execution_count": null,
      "metadata": {
        "id": "iUBx5xWVy6eo"
      },
      "outputs": [],
      "source": [
        "print(data.shape)"
      ]
    },
    {
      "cell_type": "code",
      "execution_count": null,
      "metadata": {
        "id": "DMVzkTqty6eo"
      },
      "outputs": [],
      "source": [
        "#Data pada Column 0-6 dijadikan ke variable X (matrics)\n",
        "#Data pada column 7 dijadikan variable y(vector)"
      ]
    },
    {
      "cell_type": "code",
      "execution_count": null,
      "metadata": {
        "id": "BTiga__Vy6eo"
      },
      "outputs": [],
      "source": [
        "data.head(5)"
      ]
    },
    {
      "cell_type": "code",
      "execution_count": null,
      "metadata": {
        "id": "cz6t8Wzey6eo"
      },
      "outputs": [],
      "source": [
        "X = data.iloc[:,:-1]\n",
        "X"
      ]
    },
    {
      "cell_type": "code",
      "execution_count": null,
      "metadata": {
        "id": "j6m2c9l4y6eo"
      },
      "outputs": [],
      "source": [
        "y=data[7]\n",
        "y"
      ]
    },
    {
      "cell_type": "code",
      "execution_count": null,
      "metadata": {
        "id": "6mm9RZIqy6ep"
      },
      "outputs": [],
      "source": [
        "y = data.iloc[:,-1]\n",
        "y"
      ]
    },
    {
      "cell_type": "code",
      "execution_count": null,
      "metadata": {
        "id": "jaLv88iNy6eq"
      },
      "outputs": [],
      "source": [
        "#1. library\n",
        "from sklearn.model_selection import train_test_split \n",
        "from sklearn.neighbors import KNeighborsClassifier \n",
        "from sklearn import metrics \n",
        "\n",
        "#2. proses split data\n",
        "X_train, X_test, y_train, y_test = train_test_split(X, y,test_size = 0.1, random_state = 1) \n",
        "print('split ok.')\n",
        "\n",
        "#3. proses TRAINING\n",
        "classifier_knn = KNeighborsClassifier(n_neighbors = 3) \n",
        "classifier_knn.fit(X_train, y_train) \n",
        "print('training knn ok')\n",
        "\n",
        "#4. hitung akurasi pada data testing\n",
        "y_pred = classifier_knn.predict(X_test) \n",
        "print(\"Accuracy:\", metrics.accuracy_score(y_test, y_pred)) "
      ]
    },
    {
      "cell_type": "code",
      "execution_count": null,
      "metadata": {
        "id": "JOGcfsrny6eq"
      },
      "outputs": [],
      "source": [
        "#5. SIMPAN HASIL TRAINING\n",
        "import joblib \n",
        "\n",
        "joblib.dump(classifier_knn, 'traning.joblib') \n",
        "print('Save. ok')"
      ]
    },
    {
      "cell_type": "code",
      "execution_count": null,
      "metadata": {
        "id": "1Jh9s5qry6eq"
      },
      "outputs": [],
      "source": [
        "#6. LOAD HASIL TRAINING\n",
        "classifier_knn_LOAD = joblib.load('traning.joblib')\n",
        "print('load. ok')"
      ]
    },
    {
      "cell_type": "code",
      "execution_count": null,
      "metadata": {
        "id": "QsjwnefBy6eq"
      },
      "outputs": [],
      "source": [
        "#7 Coba testing\n",
        "\n",
        "data1=[[15.26,14.84,0.871,5.763,3.312,2.221,5.22]]\n",
        "\n",
        "output = classifier_knn_LOAD.predict(data1)\n",
        "print(output) # harusnya = 1"
      ]
    },
    {
      "cell_type": "code",
      "execution_count": null,
      "metadata": {
        "id": "856tIXZwy6er"
      },
      "outputs": [],
      "source": []
    }
  ],
  "metadata": {
    "kernelspec": {
      "display_name": "Python 3",
      "language": "python",
      "name": "python3"
    },
    "language_info": {
      "codemirror_mode": {
        "name": "ipython",
        "version": 3
      },
      "file_extension": ".py",
      "mimetype": "text/x-python",
      "name": "python",
      "nbconvert_exporter": "python",
      "pygments_lexer": "ipython3",
      "version": "3.8.8"
    },
    "colab": {
      "provenance": []
    }
  },
  "nbformat": 4,
  "nbformat_minor": 0
}